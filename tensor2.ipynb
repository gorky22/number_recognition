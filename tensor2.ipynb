{
 "cells": [
  {
   "attachments": {},
   "cell_type": "markdown",
   "metadata": {},
   "source": [
    "Here we will try to use technic Augmentation of data with combination of transfer learning"
   ]
  },
  {
   "cell_type": "code",
   "execution_count": 2,
   "metadata": {},
   "outputs": [
    {
     "name": "stdout",
     "output_type": "stream",
     "text": [
      "Found 11302 files belonging to 8 classes.\n",
      "Using 10172 files for training.\n",
      "Found 11302 files belonging to 8 classes.\n",
      "Using 1130 files for validation.\n"
     ]
    }
   ],
   "source": [
    "import tensorflow as tf\n",
    "from tensorflow.keras.preprocessing import image_dataset_from_directory\n",
    "\n",
    "resolution = (256, 256)\n",
    "\n",
    "#predprocess data \n",
    "directory = 'datasets'\n",
    "\n",
    "train = image_dataset_from_directory(\n",
    "    directory,\n",
    "    labels = \"inferred\",\n",
    "    label_mode = \"int\",\n",
    "    class_names = None,\n",
    "    color_mode = \"rgb\",\n",
    "    batch_size = 32,\n",
    "    image_size = resolution,\n",
    "    seed = 100,\n",
    "    crop_to_aspect_ratio = False,\n",
    "    validation_split=0.1,\n",
    "    subset=\"training\",\n",
    "\n",
    ")\n",
    "\n",
    "valid = image_dataset_from_directory(\n",
    "    directory,\n",
    "    labels = \"inferred\",\n",
    "    label_mode = \"int\",\n",
    "    class_names = None,\n",
    "    color_mode = \"rgb\",\n",
    "    batch_size = 32,\n",
    "    image_size = resolution,\n",
    "    seed = 100,\n",
    "    crop_to_aspect_ratio = False,\n",
    "    validation_split=0.1,\n",
    "    subset=\"validation\",\n",
    "\n",
    ")\n"
   ]
  },
  {
   "cell_type": "code",
   "execution_count": 3,
   "metadata": {},
   "outputs": [],
   "source": [
    "# Prefetch images to memory, to make training faster\n",
    "\n",
    "AUTOTUNE = tf.data.AUTOTUNE\n",
    "\n",
    "train = train.prefetch(buffer_size=AUTOTUNE)\n",
    "\n"
   ]
  },
  {
   "cell_type": "code",
   "execution_count": 4,
   "metadata": {},
   "outputs": [],
   "source": [
    "data_augmentation = tf.keras.Sequential([\n",
    "  tf.keras.layers.experimental.preprocessing.RandomFlip('horizontal'),\n",
    "  tf.keras.layers.experimental.preprocessing.RandomRotation(0.2),\n",
    "  tf.keras.layers.experimental.preprocessing.RandomContrast(0.2),\n",
    "  tf.keras.layers.experimental.preprocessing.RandomZoom(0.2),\n",
    "])"
   ]
  },
  {
   "cell_type": "code",
   "execution_count": 5,
   "metadata": {},
   "outputs": [
    {
     "name": "stdout",
     "output_type": "stream",
     "text": [
      "WARNING:tensorflow:`input_shape` is undefined or non-square, or `rows` is not in [96, 128, 160, 192, 224]. Weights for input shape (224, 224) will be loaded as the default.\n"
     ]
    }
   ],
   "source": [
    "# Create the base model from the pre-trained model MobileNet V2\n",
    "IMG_SHAPE = resolution + (3,)\n",
    "base_model = tf.keras.applications.MobileNetV2(input_shape=IMG_SHAPE,\n",
    "                                               include_top=False,\n",
    "                                               weights='imagenet')"
   ]
  },
  {
   "cell_type": "code",
   "execution_count": 6,
   "metadata": {},
   "outputs": [],
   "source": [
    "# Keep the pre-trained weights, set this to true to retrain the whole model.\n",
    "base_model.trainable = False"
   ]
  },
  {
   "cell_type": "code",
   "execution_count": 7,
   "metadata": {},
   "outputs": [
    {
     "name": "stdout",
     "output_type": "stream",
     "text": [
      "WARNING:tensorflow:Using a while_loop for converting RngReadAndSkip cause there is no registered converter for this op.\n",
      "WARNING:tensorflow:Using a while_loop for converting Bitcast cause there is no registered converter for this op.\n",
      "WARNING:tensorflow:Using a while_loop for converting Bitcast cause there is no registered converter for this op.\n",
      "WARNING:tensorflow:Using a while_loop for converting StatelessRandomUniformV2 cause there is no registered converter for this op.\n",
      "WARNING:tensorflow:Using a while_loop for converting ImageProjectiveTransformV3 cause there is no registered converter for this op.\n",
      "WARNING:tensorflow:Using a while_loop for converting RngReadAndSkip cause there is no registered converter for this op.\n",
      "WARNING:tensorflow:Using a while_loop for converting Bitcast cause there is no registered converter for this op.\n",
      "WARNING:tensorflow:Using a while_loop for converting Bitcast cause there is no registered converter for this op.\n",
      "WARNING:tensorflow:Using a while_loop for converting StatelessRandomUniformFullIntV2 cause there is no registered converter for this op.\n",
      "WARNING:tensorflow:Using a while_loop for converting StatelessRandomGetKeyCounter cause there is no registered converter for this op.\n",
      "WARNING:tensorflow:Using a while_loop for converting StatelessRandomUniformV2 cause there is no registered converter for this op.\n",
      "WARNING:tensorflow:Using a while_loop for converting RngReadAndSkip cause there is no registered converter for this op.\n",
      "WARNING:tensorflow:Using a while_loop for converting Bitcast cause there is no registered converter for this op.\n",
      "WARNING:tensorflow:Using a while_loop for converting Bitcast cause there is no registered converter for this op.\n",
      "WARNING:tensorflow:Using a while_loop for converting StatelessRandomUniformV2 cause there is no registered converter for this op.\n",
      "WARNING:tensorflow:Using a while_loop for converting ImageProjectiveTransformV3 cause there is no registered converter for this op.\n",
      "WARNING:tensorflow:Using a while_loop for converting RngReadAndSkip cause there is no registered converter for this op.\n",
      "WARNING:tensorflow:Using a while_loop for converting Bitcast cause there is no registered converter for this op.\n",
      "WARNING:tensorflow:Using a while_loop for converting Bitcast cause there is no registered converter for this op.\n",
      "WARNING:tensorflow:Using a while_loop for converting StatelessRandomUniformV2 cause there is no registered converter for this op.\n",
      "WARNING:tensorflow:Using a while_loop for converting ImageProjectiveTransformV3 cause there is no registered converter for this op.\n",
      "WARNING:tensorflow:Using a while_loop for converting RngReadAndSkip cause there is no registered converter for this op.\n",
      "WARNING:tensorflow:Using a while_loop for converting Bitcast cause there is no registered converter for this op.\n",
      "WARNING:tensorflow:Using a while_loop for converting Bitcast cause there is no registered converter for this op.\n",
      "WARNING:tensorflow:Using a while_loop for converting StatelessRandomUniformFullIntV2 cause there is no registered converter for this op.\n",
      "WARNING:tensorflow:Using a while_loop for converting StatelessRandomGetKeyCounter cause there is no registered converter for this op.\n",
      "WARNING:tensorflow:Using a while_loop for converting StatelessRandomUniformV2 cause there is no registered converter for this op.\n",
      "WARNING:tensorflow:Using a while_loop for converting RngReadAndSkip cause there is no registered converter for this op.\n",
      "WARNING:tensorflow:Using a while_loop for converting Bitcast cause there is no registered converter for this op.\n",
      "WARNING:tensorflow:Using a while_loop for converting Bitcast cause there is no registered converter for this op.\n",
      "WARNING:tensorflow:Using a while_loop for converting StatelessRandomUniformV2 cause there is no registered converter for this op.\n",
      "WARNING:tensorflow:Using a while_loop for converting ImageProjectiveTransformV3 cause there is no registered converter for this op.\n"
     ]
    }
   ],
   "source": [
    "input_shape = tf.keras.Input(shape=(resolution[0],resolution[1], 3))\n",
    "x = data_augmentation(input_shape)\n",
    "\n",
    "## we want to get resolution of dataset imgs as was in pre-trained model\n",
    "x =  tf.keras.applications.mobilenet_v2.preprocess_input(x)\n",
    "x = base_model(x, training=False)\n",
    "\n",
    "x = tf.keras.layers.GlobalAveragePooling2D()(x)\n",
    "\n",
    "## preventing overfitiing\n",
    "x = tf.keras.layers.Dropout(0.2)(x)\n",
    "\n",
    "## this is layer is added because we want to our dataset classes == pretrained model outputs\n",
    "outputs_shape = tf.keras.layers.Dense(8)(x)\n",
    "model = tf.keras.Model(input_shape, outputs_shape)"
   ]
  },
  {
   "cell_type": "code",
   "execution_count": 8,
   "metadata": {},
   "outputs": [],
   "source": [
    "base_learning_rate = 0.0001\n",
    "model.compile(optimizer=tf.keras.optimizers.Adam(), # lr=base_learning_rate),\n",
    "              loss=tf.keras.losses.SparseCategoricalCrossentropy(from_logits=True),\n",
    "              metrics=['accuracy'])"
   ]
  },
  {
   "cell_type": "code",
   "execution_count": 9,
   "metadata": {},
   "outputs": [
    {
     "name": "stdout",
     "output_type": "stream",
     "text": [
      "Epoch 1/60\n",
      "WARNING:tensorflow:Using a while_loop for converting RngReadAndSkip cause there is no registered converter for this op.\n",
      "WARNING:tensorflow:Using a while_loop for converting Bitcast cause there is no registered converter for this op.\n",
      "WARNING:tensorflow:Using a while_loop for converting Bitcast cause there is no registered converter for this op.\n",
      "WARNING:tensorflow:Using a while_loop for converting StatelessRandomUniformV2 cause there is no registered converter for this op.\n",
      "WARNING:tensorflow:Using a while_loop for converting ImageProjectiveTransformV3 cause there is no registered converter for this op.\n",
      "WARNING:tensorflow:Using a while_loop for converting RngReadAndSkip cause there is no registered converter for this op.\n",
      "WARNING:tensorflow:Using a while_loop for converting Bitcast cause there is no registered converter for this op.\n",
      "WARNING:tensorflow:Using a while_loop for converting Bitcast cause there is no registered converter for this op.\n",
      "WARNING:tensorflow:Using a while_loop for converting StatelessRandomUniformFullIntV2 cause there is no registered converter for this op.\n",
      "WARNING:tensorflow:Using a while_loop for converting StatelessRandomGetKeyCounter cause there is no registered converter for this op.\n",
      "WARNING:tensorflow:Using a while_loop for converting StatelessRandomUniformV2 cause there is no registered converter for this op.\n",
      "WARNING:tensorflow:Using a while_loop for converting RngReadAndSkip cause there is no registered converter for this op.\n",
      "WARNING:tensorflow:Using a while_loop for converting Bitcast cause there is no registered converter for this op.\n",
      "WARNING:tensorflow:Using a while_loop for converting Bitcast cause there is no registered converter for this op.\n",
      "WARNING:tensorflow:Using a while_loop for converting StatelessRandomUniformV2 cause there is no registered converter for this op.\n",
      "WARNING:tensorflow:Using a while_loop for converting ImageProjectiveTransformV3 cause there is no registered converter for this op.\n",
      "WARNING:tensorflow:Using a while_loop for converting RngReadAndSkip cause there is no registered converter for this op.\n",
      "WARNING:tensorflow:Using a while_loop for converting Bitcast cause there is no registered converter for this op.\n",
      "WARNING:tensorflow:Using a while_loop for converting Bitcast cause there is no registered converter for this op.\n",
      "WARNING:tensorflow:Using a while_loop for converting StatelessRandomUniformV2 cause there is no registered converter for this op.\n",
      "WARNING:tensorflow:Using a while_loop for converting ImageProjectiveTransformV3 cause there is no registered converter for this op.\n",
      "WARNING:tensorflow:Using a while_loop for converting RngReadAndSkip cause there is no registered converter for this op.\n",
      "WARNING:tensorflow:Using a while_loop for converting Bitcast cause there is no registered converter for this op.\n",
      "WARNING:tensorflow:Using a while_loop for converting Bitcast cause there is no registered converter for this op.\n",
      "WARNING:tensorflow:Using a while_loop for converting StatelessRandomUniformFullIntV2 cause there is no registered converter for this op.\n",
      "WARNING:tensorflow:Using a while_loop for converting StatelessRandomGetKeyCounter cause there is no registered converter for this op.\n",
      "WARNING:tensorflow:Using a while_loop for converting StatelessRandomUniformV2 cause there is no registered converter for this op.\n",
      "WARNING:tensorflow:Using a while_loop for converting RngReadAndSkip cause there is no registered converter for this op.\n",
      "WARNING:tensorflow:Using a while_loop for converting Bitcast cause there is no registered converter for this op.\n",
      "WARNING:tensorflow:Using a while_loop for converting Bitcast cause there is no registered converter for this op.\n",
      "WARNING:tensorflow:Using a while_loop for converting StatelessRandomUniformV2 cause there is no registered converter for this op.\n",
      "WARNING:tensorflow:Using a while_loop for converting ImageProjectiveTransformV3 cause there is no registered converter for this op.\n",
      "318/318 [==============================] - 373s 1s/step - loss: 0.8727 - accuracy: 0.6979 - val_loss: 0.5373 - val_accuracy: 0.8522\n",
      "Epoch 2/60\n",
      "318/318 [==============================] - 311s 979ms/step - loss: 0.5241 - accuracy: 0.8323 - val_loss: 0.4159 - val_accuracy: 0.8850\n",
      "Epoch 3/60\n",
      "318/318 [==============================] - 326s 1s/step - loss: 0.4235 - accuracy: 0.8679 - val_loss: 0.3583 - val_accuracy: 0.8991\n",
      "Epoch 4/60\n",
      "318/318 [==============================] - 208s 653ms/step - loss: 0.3768 - accuracy: 0.8832 - val_loss: 0.3119 - val_accuracy: 0.9230\n",
      "Epoch 5/60\n",
      "318/318 [==============================] - 206s 649ms/step - loss: 0.3410 - accuracy: 0.8946 - val_loss: 0.2849 - val_accuracy: 0.9265\n",
      "Epoch 6/60\n",
      "318/318 [==============================] - 211s 663ms/step - loss: 0.3222 - accuracy: 0.9023 - val_loss: 0.2705 - val_accuracy: 0.9310\n",
      "Epoch 7/60\n",
      "318/318 [==============================] - 215s 676ms/step - loss: 0.3245 - accuracy: 0.8994 - val_loss: 0.2670 - val_accuracy: 0.9283\n",
      "Epoch 8/60\n",
      "318/318 [==============================] - 218s 686ms/step - loss: 0.3131 - accuracy: 0.9016 - val_loss: 0.2484 - val_accuracy: 0.9398\n",
      "Epoch 9/60\n",
      "318/318 [==============================] - 216s 681ms/step - loss: 0.2877 - accuracy: 0.9116 - val_loss: 0.2462 - val_accuracy: 0.9372\n",
      "Epoch 10/60\n",
      "318/318 [==============================] - 216s 678ms/step - loss: 0.2929 - accuracy: 0.9070 - val_loss: 0.2414 - val_accuracy: 0.9398\n",
      "Epoch 11/60\n",
      "318/318 [==============================] - 211s 665ms/step - loss: 0.2814 - accuracy: 0.9120 - val_loss: 0.2353 - val_accuracy: 0.9416\n",
      "Epoch 12/60\n",
      "318/318 [==============================] - 212s 668ms/step - loss: 0.2816 - accuracy: 0.9125 - val_loss: 0.2341 - val_accuracy: 0.9398\n",
      "Epoch 13/60\n",
      "318/318 [==============================] - 214s 673ms/step - loss: 0.2753 - accuracy: 0.9131 - val_loss: 0.2281 - val_accuracy: 0.9460\n",
      "Epoch 14/60\n",
      "318/318 [==============================] - 198s 624ms/step - loss: 0.2667 - accuracy: 0.9161 - val_loss: 0.2257 - val_accuracy: 0.9425\n",
      "Epoch 15/60\n",
      "318/318 [==============================] - 205s 643ms/step - loss: 0.2762 - accuracy: 0.9128 - val_loss: 0.2202 - val_accuracy: 0.9416\n",
      "Epoch 16/60\n",
      "318/318 [==============================] - 203s 639ms/step - loss: 0.2631 - accuracy: 0.9172 - val_loss: 0.2180 - val_accuracy: 0.9469\n",
      "Epoch 17/60\n",
      "318/318 [==============================] - 186s 584ms/step - loss: 0.2636 - accuracy: 0.9150 - val_loss: 0.2227 - val_accuracy: 0.9327\n",
      "Epoch 18/60\n",
      "318/318 [==============================] - 191s 600ms/step - loss: 0.2630 - accuracy: 0.9148 - val_loss: 0.2241 - val_accuracy: 0.9434\n",
      "Epoch 19/60\n",
      "318/318 [==============================] - 181s 568ms/step - loss: 0.2576 - accuracy: 0.9178 - val_loss: 0.2196 - val_accuracy: 0.9434\n",
      "Epoch 20/60\n",
      "318/318 [==============================] - 180s 565ms/step - loss: 0.2551 - accuracy: 0.9154 - val_loss: 0.2121 - val_accuracy: 0.9469\n",
      "Epoch 21/60\n",
      "318/318 [==============================] - 180s 565ms/step - loss: 0.2578 - accuracy: 0.9167 - val_loss: 0.2227 - val_accuracy: 0.9451\n",
      "Epoch 22/60\n",
      "318/318 [==============================] - 178s 560ms/step - loss: 0.2565 - accuracy: 0.9153 - val_loss: 0.2137 - val_accuracy: 0.9434\n",
      "Epoch 23/60\n",
      "318/318 [==============================] - 173s 543ms/step - loss: 0.2489 - accuracy: 0.9203 - val_loss: 0.2198 - val_accuracy: 0.9416\n",
      "Epoch 24/60\n",
      "318/318 [==============================] - 184s 578ms/step - loss: 0.2469 - accuracy: 0.9214 - val_loss: 0.2146 - val_accuracy: 0.9451\n",
      "Epoch 25/60\n",
      "318/318 [==============================] - 190s 597ms/step - loss: 0.2469 - accuracy: 0.9203 - val_loss: 0.2170 - val_accuracy: 0.9513\n",
      "Epoch 26/60\n",
      "318/318 [==============================] - 195s 614ms/step - loss: 0.2506 - accuracy: 0.9201 - val_loss: 0.2057 - val_accuracy: 0.9460\n",
      "Epoch 27/60\n",
      "318/318 [==============================] - 209s 656ms/step - loss: 0.2490 - accuracy: 0.9186 - val_loss: 0.2082 - val_accuracy: 0.9442\n",
      "Epoch 28/60\n",
      "318/318 [==============================] - 213s 671ms/step - loss: 0.2494 - accuracy: 0.9207 - val_loss: 0.2052 - val_accuracy: 0.9496\n",
      "Epoch 29/60\n",
      "318/318 [==============================] - 211s 664ms/step - loss: 0.2478 - accuracy: 0.9196 - val_loss: 0.1982 - val_accuracy: 0.9522\n",
      "Epoch 30/60\n",
      "318/318 [==============================] - 194s 611ms/step - loss: 0.2429 - accuracy: 0.9213 - val_loss: 0.2193 - val_accuracy: 0.9416\n",
      "Epoch 31/60\n",
      "318/318 [==============================] - 172s 540ms/step - loss: 0.2462 - accuracy: 0.9201 - val_loss: 0.2171 - val_accuracy: 0.9451\n",
      "Epoch 32/60\n",
      "318/318 [==============================] - 174s 549ms/step - loss: 0.2556 - accuracy: 0.9194 - val_loss: 0.2101 - val_accuracy: 0.9389\n",
      "Epoch 33/60\n",
      "318/318 [==============================] - 177s 557ms/step - loss: 0.2498 - accuracy: 0.9183 - val_loss: 0.2041 - val_accuracy: 0.9478\n",
      "Epoch 34/60\n",
      "318/318 [==============================] - 180s 566ms/step - loss: 0.2476 - accuracy: 0.9214 - val_loss: 0.2115 - val_accuracy: 0.9434\n",
      "Epoch 35/60\n",
      "318/318 [==============================] - 200s 628ms/step - loss: 0.2418 - accuracy: 0.9214 - val_loss: 0.2106 - val_accuracy: 0.9416\n",
      "Epoch 36/60\n",
      "318/318 [==============================] - 211s 665ms/step - loss: 0.2480 - accuracy: 0.9204 - val_loss: 0.2114 - val_accuracy: 0.9460\n",
      "Epoch 37/60\n",
      "318/318 [==============================] - 197s 619ms/step - loss: 0.2520 - accuracy: 0.9175 - val_loss: 0.2034 - val_accuracy: 0.9504\n",
      "Epoch 38/60\n",
      "318/318 [==============================] - 170s 535ms/step - loss: 0.2385 - accuracy: 0.9222 - val_loss: 0.2167 - val_accuracy: 0.9407\n",
      "Epoch 39/60\n",
      "318/318 [==============================] - 173s 544ms/step - loss: 0.2408 - accuracy: 0.9214 - val_loss: 0.2170 - val_accuracy: 0.9389\n",
      "Epoch 40/60\n",
      "318/318 [==============================] - 173s 544ms/step - loss: 0.2472 - accuracy: 0.9199 - val_loss: 0.2042 - val_accuracy: 0.9442\n",
      "Epoch 41/60\n",
      "318/318 [==============================] - 175s 549ms/step - loss: 0.2401 - accuracy: 0.9247 - val_loss: 0.2178 - val_accuracy: 0.9398\n",
      "Epoch 42/60\n",
      "318/318 [==============================] - 177s 556ms/step - loss: 0.2439 - accuracy: 0.9173 - val_loss: 0.2332 - val_accuracy: 0.9372\n",
      "Epoch 43/60\n",
      "318/318 [==============================] - 176s 554ms/step - loss: 0.2436 - accuracy: 0.9214 - val_loss: 0.2054 - val_accuracy: 0.9531\n",
      "Epoch 44/60\n",
      "318/318 [==============================] - 174s 546ms/step - loss: 0.2395 - accuracy: 0.9233 - val_loss: 0.2211 - val_accuracy: 0.9434\n",
      "Epoch 45/60\n",
      "318/318 [==============================] - 175s 550ms/step - loss: 0.2413 - accuracy: 0.9215 - val_loss: 0.2078 - val_accuracy: 0.9504\n",
      "Epoch 46/60\n",
      "318/318 [==============================] - 176s 555ms/step - loss: 0.2431 - accuracy: 0.9216 - val_loss: 0.2070 - val_accuracy: 0.9531\n",
      "Epoch 47/60\n",
      "318/318 [==============================] - 174s 548ms/step - loss: 0.2222 - accuracy: 0.9288 - val_loss: 0.2188 - val_accuracy: 0.9451\n",
      "Epoch 48/60\n",
      "318/318 [==============================] - 172s 542ms/step - loss: 0.2410 - accuracy: 0.9235 - val_loss: 0.2035 - val_accuracy: 0.9469\n",
      "Epoch 49/60\n",
      "318/318 [==============================] - 178s 560ms/step - loss: 0.2433 - accuracy: 0.9222 - val_loss: 0.2259 - val_accuracy: 0.9372\n",
      "Epoch 50/60\n",
      "318/318 [==============================] - 176s 552ms/step - loss: 0.2391 - accuracy: 0.9235 - val_loss: 0.2103 - val_accuracy: 0.9407\n",
      "Epoch 51/60\n",
      "318/318 [==============================] - 178s 560ms/step - loss: 0.2445 - accuracy: 0.9216 - val_loss: 0.2232 - val_accuracy: 0.9407\n",
      "Epoch 52/60\n",
      "318/318 [==============================] - 178s 561ms/step - loss: 0.2364 - accuracy: 0.9212 - val_loss: 0.2020 - val_accuracy: 0.9522\n",
      "Epoch 53/60\n",
      "318/318 [==============================] - 179s 564ms/step - loss: 0.2491 - accuracy: 0.9205 - val_loss: 0.2008 - val_accuracy: 0.9478\n",
      "Epoch 54/60\n",
      "318/318 [==============================] - 175s 549ms/step - loss: 0.2385 - accuracy: 0.9212 - val_loss: 0.2075 - val_accuracy: 0.9478\n",
      "Epoch 55/60\n",
      "318/318 [==============================] - 177s 557ms/step - loss: 0.2268 - accuracy: 0.9266 - val_loss: 0.2109 - val_accuracy: 0.9469\n",
      "Epoch 56/60\n",
      "318/318 [==============================] - 176s 552ms/step - loss: 0.2367 - accuracy: 0.9261 - val_loss: 0.2039 - val_accuracy: 0.9487\n",
      "Epoch 57/60\n",
      "318/318 [==============================] - 179s 562ms/step - loss: 0.2415 - accuracy: 0.9256 - val_loss: 0.2089 - val_accuracy: 0.9469\n",
      "Epoch 58/60\n",
      "318/318 [==============================] - 177s 557ms/step - loss: 0.2404 - accuracy: 0.9213 - val_loss: 0.2091 - val_accuracy: 0.9407\n",
      "Epoch 59/60\n",
      "318/318 [==============================] - 181s 568ms/step - loss: 0.2399 - accuracy: 0.9214 - val_loss: 0.2110 - val_accuracy: 0.9487\n",
      "Epoch 60/60\n",
      "318/318 [==============================] - 179s 564ms/step - loss: 0.2327 - accuracy: 0.9230 - val_loss: 0.2102 - val_accuracy: 0.9469\n"
     ]
    }
   ],
   "source": [
    "history = model.fit(train,\n",
    "                    epochs=60,\n",
    "                    validation_data=valid)"
   ]
  },
  {
   "cell_type": "code",
   "execution_count": 12,
   "metadata": {},
   "outputs": [
    {
     "data": {
      "image/png": "[encoded data removed]",
      "text/plain": [
       "<Figure size 432x288 with 1 Axes>"
      ]
     },
     "metadata": {
      "needs_background": "light"
     },
     "output_type": "display_data"
    },
    {
     "data": {
      "image/png": "[encoded data removed]",
      "text/plain": [
       "<Figure size 432x288 with 1 Axes>"
      ]
     },
     "metadata": {
      "needs_background": "light"
     },
     "output_type": "display_data"
    }
   ],
   "source": [
    "import matplotlib.pyplot as plt\n",
    "plt.figure()\n",
    "plt.plot(history.history['loss'], label='training loss')\n",
    "plt.plot(history.history['val_loss'], label='validation loss')\n",
    "plt.legend(loc='best')\n",
    "\n",
    "plt.figure()\n",
    "plt.plot(history.history['accuracy'], label='train accuracy')\n",
    "plt.plot(history.history['val_accuracy'], label='validation accuracy')\n",
    "plt.legend(loc='best')\n",
    "plt.show()"
   ]
  },
  {
   "cell_type": "code",
   "execution_count": 60,
   "metadata": {},
   "outputs": [
    {
     "data": {
      "image/png": "[encoded data removed]",
      "text/plain": [
       "<Figure size 432x288 with 1 Axes>"
      ]
     },
     "metadata": {
      "needs_background": "light"
     },
     "output_type": "display_data"
    },
    {
     "name": "stdout",
     "output_type": "stream",
     "text": [
      "1/1 [==============================] - 0s 35ms/step\n",
      "7 predicted\n"
     ]
    },
    {
     "data": {
      "text/plain": [
       "array([[ -8.441751 , -10.155709 , -10.159692 , -11.951377 ,  -2.9302373,\n",
       "         -3.2088366,  -8.700192 ,   1.8830907]], dtype=float32)"
      ]
     },
     "execution_count": 60,
     "metadata": {},
     "output_type": "execute_result"
    }
   ],
   "source": [
    "import os\n",
    "from PIL import Image\n",
    "import random\n",
    "import numpy as np\n",
    "import matplotlib.pyplot as plt\n",
    "import matplotlib.cm as cm\n",
    "\n",
    "def plot_img(img_matrix):\n",
    "    fig = plt.figure()\n",
    "    ax1 = fig.add_subplot(121)\n",
    "    \n",
    "    ax1.imshow(img_matrix.astype('uint8'))\n",
    "\n",
    "    plt.show()\n",
    "\n",
    "def get_result(prediction):\n",
    "    return np.argmax(prediction)\n",
    "\n",
    "def procces_img(path):\n",
    "    img_tmp = Image.open(path).resize((resolution[0],resolution[1]))\n",
    "    return np.array(img_tmp).astype('uint8')\n",
    "\n",
    "\n",
    "\n",
    "\n",
    "img = procces_img('test/PVC-recycling-symbol640x480.jpg')\n",
    "plot_img(img)\n",
    "prediction = model.predict(img.reshape((-1, 256, 256, 3)))\n",
    "print(f'{get_result(prediction)} predicted' )\n",
    "prediction"
   ]
  },
  {
   "cell_type": "code",
   "execution_count": 44,
   "metadata": {},
   "outputs": [
    {
     "name": "stdout",
     "output_type": "stream",
     "text": [
      "1/1 [==============================] - 0s 44ms/step\n"
     ]
    },
    {
     "data": {
      "text/plain": [
       "6"
      ]
     },
     "execution_count": 44,
     "metadata": {},
     "output_type": "execute_result"
    }
   ],
   "source": [
    "np.argmax(model.predict(img.reshape((-1, 256, 256, 3))))"
   ]
  }
 ],
 "metadata": {
  "kernelspec": {
   "display_name": "base",
   "language": "python",
   "name": "python3"
  },
  "language_info": {
   "codemirror_mode": {
    "name": "ipython",
    "version": 3
   },
   "file_extension": ".py",
   "mimetype": "text/x-python",
   "name": "python",
   "nbconvert_exporter": "python",
   "pygments_lexer": "ipython3",
   "version": "3.8.3"
  },
  "orig_nbformat": 4,
  "vscode": {
   "interpreter": {
    "hash": "b735bc272654f9cb61c88d1440fac5997daf9b03ed57a5ffe25182cc9caddd7b"
   }
  }
 },
 "nbformat": 4,
 "nbformat_minor": 2
}
