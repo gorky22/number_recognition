{
 "cells": [
  {
   "attachments": {},
   "cell_type": "markdown",
   "metadata": {},
   "source": [
    "Here we will try to use technic Augmentation of data with combination of transfer learning"
   ]
  },
  {
   "cell_type": "code",
   "execution_count": 3,
   "metadata": {},
   "outputs": [
    {
     "name": "stdout",
     "output_type": "stream",
     "text": [
      "Found 11302 files belonging to 8 classes.\n",
      "Using 10172 files for training.\n",
      "Found 11302 files belonging to 8 classes.\n",
      "Using 1130 files for validation.\n"
     ]
    }
   ],
   "source": [
    "import tensorflow as tf\n",
    "from tensorflow.keras.preprocessing import image_dataset_from_directory\n",
    "\n",
    "resolution = (128, 128)\n",
    "\n",
    "#predprocess data \n",
    "directory = 'datasets'\n",
    "\n",
    "train = image_dataset_from_directory(\n",
    "    directory,\n",
    "    labels = \"inferred\",\n",
    "    label_mode = \"int\",\n",
    "    class_names = None,\n",
    "    color_mode = \"rgb\",\n",
    "    batch_size = 32,\n",
    "    image_size = resolution,\n",
    "    seed = 100,\n",
    "    crop_to_aspect_ratio = False,\n",
    "    validation_split=0.1,\n",
    "    subset=\"training\",\n",
    "\n",
    ")\n",
    "\n",
    "valid = image_dataset_from_directory(\n",
    "    directory,\n",
    "    labels = \"inferred\",\n",
    "    label_mode = \"int\",\n",
    "    class_names = None,\n",
    "    color_mode = \"rgb\",\n",
    "    batch_size = 32,\n",
    "    image_size = resolution,\n",
    "    seed = 100,\n",
    "    crop_to_aspect_ratio = False,\n",
    "    validation_split=0.1,\n",
    "    subset=\"validation\",\n",
    "\n",
    ")\n"
   ]
  },
  {
   "cell_type": "code",
   "execution_count": 25,
   "metadata": {},
   "outputs": [],
   "source": [
    "# Prefetch images to memory, to make training faster\n",
    "\n",
    "AUTOTUNE = tf.data.AUTOTUNE\n",
    "\n",
    "train = train.prefetch(buffer_size=AUTOTUNE)\n",
    "\n"
   ]
  },
  {
   "cell_type": "code",
   "execution_count": 28,
   "metadata": {},
   "outputs": [],
   "source": [
    "data_augmentation = tf.keras.Sequential([\n",
    "  tf.keras.layers.experimental.preprocessing.RandomFlip('horizontal'),\n",
    "  tf.keras.layers.experimental.preprocessing.RandomRotation(0.2),\n",
    "  tf.keras.layers.experimental.preprocessing.RandomContrast(0.2),\n",
    "  tf.keras.layers.experimental.preprocessing.RandomZoom(0.2),\n",
    "])"
   ]
  },
  {
   "cell_type": "code",
   "execution_count": 44,
   "metadata": {},
   "outputs": [],
   "source": [
    "# Create the base model from the pre-trained model MobileNet V2\n",
    "IMG_SHAPE = resolution + (3,)\n",
    "base_model = tf.keras.applications.MobileNetV2(input_shape=IMG_SHAPE,\n",
    "                                               include_top=False,\n",
    "                                               weights='imagenet')"
   ]
  },
  {
   "cell_type": "code",
   "execution_count": 45,
   "metadata": {},
   "outputs": [],
   "source": [
    "# Keep the pre-trained weights, set this to true to retrain the whole model.\n",
    "base_model.trainable = False"
   ]
  },
  {
   "cell_type": "code",
   "execution_count": 61,
   "metadata": {},
   "outputs": [
    {
     "name": "stdout",
     "output_type": "stream",
     "text": [
      "WARNING:tensorflow:Using a while_loop for converting RngReadAndSkip cause there is no registered converter for this op.\n",
      "WARNING:tensorflow:Using a while_loop for converting Bitcast cause there is no registered converter for this op.\n",
      "WARNING:tensorflow:Using a while_loop for converting Bitcast cause there is no registered converter for this op.\n",
      "WARNING:tensorflow:Using a while_loop for converting StatelessRandomUniformV2 cause there is no registered converter for this op.\n",
      "WARNING:tensorflow:Using a while_loop for converting ImageProjectiveTransformV3 cause there is no registered converter for this op.\n",
      "WARNING:tensorflow:Using a while_loop for converting RngReadAndSkip cause there is no registered converter for this op.\n",
      "WARNING:tensorflow:Using a while_loop for converting Bitcast cause there is no registered converter for this op.\n",
      "WARNING:tensorflow:Using a while_loop for converting Bitcast cause there is no registered converter for this op.\n",
      "WARNING:tensorflow:Using a while_loop for converting StatelessRandomUniformFullIntV2 cause there is no registered converter for this op.\n",
      "WARNING:tensorflow:Using a while_loop for converting StatelessRandomGetKeyCounter cause there is no registered converter for this op.\n",
      "WARNING:tensorflow:Using a while_loop for converting StatelessRandomUniformV2 cause there is no registered converter for this op.\n",
      "WARNING:tensorflow:Using a while_loop for converting RngReadAndSkip cause there is no registered converter for this op.\n",
      "WARNING:tensorflow:Using a while_loop for converting Bitcast cause there is no registered converter for this op.\n",
      "WARNING:tensorflow:Using a while_loop for converting Bitcast cause there is no registered converter for this op.\n",
      "WARNING:tensorflow:Using a while_loop for converting StatelessRandomUniformV2 cause there is no registered converter for this op.\n",
      "WARNING:tensorflow:Using a while_loop for converting ImageProjectiveTransformV3 cause there is no registered converter for this op.\n"
     ]
    }
   ],
   "source": [
    "input_shape = tf.keras.Input(shape=(resolution[0],resolution[1], 3))\n",
    "x = data_augmentation(input_shape)\n",
    "\n",
    "## we want to get resolution of dataset imgs as was in pre-trained model\n",
    "x =  tf.keras.applications.mobilenet_v2.preprocess_input(x)\n",
    "x = base_model(x, training=False)\n",
    "\n",
    "x = tf.keras.layers.GlobalAveragePooling2D()(x)\n",
    "\n",
    "## preventing overfitiing\n",
    "x = tf.keras.layers.Dropout(0.2)(x)\n",
    "\n",
    "## this is layer is added because we want to our dataset classes == pretrained model outputs\n",
    "outputs_shape = tf.keras.layers.Dense(8)(x)\n",
    "model = tf.keras.Model(input_shape, outputs_shape)"
   ]
  },
  {
   "cell_type": "code",
   "execution_count": 62,
   "metadata": {},
   "outputs": [],
   "source": [
    "base_learning_rate = 0.0001\n",
    "model.compile(optimizer=tf.keras.optimizers.Adam(), # lr=base_learning_rate),\n",
    "              loss=tf.keras.losses.SparseCategoricalCrossentropy(from_logits=True),\n",
    "              metrics=['accuracy'])"
   ]
  },
  {
   "cell_type": "code",
   "execution_count": 63,
   "metadata": {},
   "outputs": [
    {
     "name": "stdout",
     "output_type": "stream",
     "text": [
      "Epoch 1/60\n",
      "WARNING:tensorflow:Using a while_loop for converting RngReadAndSkip cause there is no registered converter for this op.\n",
      "WARNING:tensorflow:Using a while_loop for converting Bitcast cause there is no registered converter for this op.\n",
      "WARNING:tensorflow:Using a while_loop for converting Bitcast cause there is no registered converter for this op.\n",
      "WARNING:tensorflow:Using a while_loop for converting StatelessRandomUniformV2 cause there is no registered converter for this op.\n",
      "WARNING:tensorflow:Using a while_loop for converting ImageProjectiveTransformV3 cause there is no registered converter for this op.\n",
      "WARNING:tensorflow:Using a while_loop for converting RngReadAndSkip cause there is no registered converter for this op.\n",
      "WARNING:tensorflow:Using a while_loop for converting Bitcast cause there is no registered converter for this op.\n",
      "WARNING:tensorflow:Using a while_loop for converting Bitcast cause there is no registered converter for this op.\n",
      "WARNING:tensorflow:Using a while_loop for converting StatelessRandomUniformFullIntV2 cause there is no registered converter for this op.\n",
      "WARNING:tensorflow:Using a while_loop for converting StatelessRandomGetKeyCounter cause there is no registered converter for this op.\n",
      "WARNING:tensorflow:Using a while_loop for converting StatelessRandomUniformV2 cause there is no registered converter for this op.\n",
      "WARNING:tensorflow:Using a while_loop for converting RngReadAndSkip cause there is no registered converter for this op.\n",
      "WARNING:tensorflow:Using a while_loop for converting Bitcast cause there is no registered converter for this op.\n",
      "WARNING:tensorflow:Using a while_loop for converting Bitcast cause there is no registered converter for this op.\n",
      "WARNING:tensorflow:Using a while_loop for converting StatelessRandomUniformV2 cause there is no registered converter for this op.\n",
      "WARNING:tensorflow:Using a while_loop for converting ImageProjectiveTransformV3 cause there is no registered converter for this op.\n",
      "WARNING:tensorflow:Using a while_loop for converting RngReadAndSkip cause there is no registered converter for this op.\n",
      "WARNING:tensorflow:Using a while_loop for converting Bitcast cause there is no registered converter for this op.\n",
      "WARNING:tensorflow:Using a while_loop for converting Bitcast cause there is no registered converter for this op.\n",
      "WARNING:tensorflow:Using a while_loop for converting StatelessRandomUniformV2 cause there is no registered converter for this op.\n",
      "WARNING:tensorflow:Using a while_loop for converting ImageProjectiveTransformV3 cause there is no registered converter for this op.\n",
      "WARNING:tensorflow:Using a while_loop for converting RngReadAndSkip cause there is no registered converter for this op.\n",
      "WARNING:tensorflow:Using a while_loop for converting Bitcast cause there is no registered converter for this op.\n",
      "WARNING:tensorflow:Using a while_loop for converting Bitcast cause there is no registered converter for this op.\n",
      "WARNING:tensorflow:Using a while_loop for converting StatelessRandomUniformFullIntV2 cause there is no registered converter for this op.\n",
      "WARNING:tensorflow:Using a while_loop for converting StatelessRandomGetKeyCounter cause there is no registered converter for this op.\n",
      "WARNING:tensorflow:Using a while_loop for converting StatelessRandomUniformV2 cause there is no registered converter for this op.\n",
      "WARNING:tensorflow:Using a while_loop for converting RngReadAndSkip cause there is no registered converter for this op.\n",
      "WARNING:tensorflow:Using a while_loop for converting Bitcast cause there is no registered converter for this op.\n",
      "WARNING:tensorflow:Using a while_loop for converting Bitcast cause there is no registered converter for this op.\n",
      "WARNING:tensorflow:Using a while_loop for converting StatelessRandomUniformV2 cause there is no registered converter for this op.\n",
      "WARNING:tensorflow:Using a while_loop for converting ImageProjectiveTransformV3 cause there is no registered converter for this op.\n",
      "318/318 [==============================] - 67s 200ms/step - loss: 0.8699 - accuracy: 0.7017 - val_loss: 0.5372 - val_accuracy: 0.8301\n",
      "Epoch 2/60\n",
      "318/318 [==============================] - 60s 189ms/step - loss: 0.5059 - accuracy: 0.8326 - val_loss: 0.4347 - val_accuracy: 0.8814\n",
      "Epoch 3/60\n",
      "318/318 [==============================] - 59s 186ms/step - loss: 0.4350 - accuracy: 0.8607 - val_loss: 0.3882 - val_accuracy: 0.8938\n",
      "Epoch 4/60\n",
      "318/318 [==============================] - 59s 185ms/step - loss: 0.3951 - accuracy: 0.8703 - val_loss: 0.3781 - val_accuracy: 0.8894\n",
      "Epoch 5/60\n",
      "318/318 [==============================] - 59s 184ms/step - loss: 0.3641 - accuracy: 0.8825 - val_loss: 0.3648 - val_accuracy: 0.8956\n",
      "Epoch 6/60\n",
      "318/318 [==============================] - 59s 185ms/step - loss: 0.3381 - accuracy: 0.8896 - val_loss: 0.3530 - val_accuracy: 0.8965\n",
      "Epoch 7/60\n",
      "318/318 [==============================] - 61s 191ms/step - loss: 0.3400 - accuracy: 0.8918 - val_loss: 0.3330 - val_accuracy: 0.9000\n",
      "Epoch 8/60\n",
      "318/318 [==============================] - 61s 191ms/step - loss: 0.3270 - accuracy: 0.8950 - val_loss: 0.3471 - val_accuracy: 0.8903\n",
      "Epoch 9/60\n",
      "318/318 [==============================] - 60s 188ms/step - loss: 0.3197 - accuracy: 0.8975 - val_loss: 0.3216 - val_accuracy: 0.9106\n",
      "Epoch 10/60\n",
      "318/318 [==============================] - 63s 197ms/step - loss: 0.3125 - accuracy: 0.8970 - val_loss: 0.3329 - val_accuracy: 0.9053\n",
      "Epoch 11/60\n",
      "318/318 [==============================] - 59s 186ms/step - loss: 0.2979 - accuracy: 0.9032 - val_loss: 0.3230 - val_accuracy: 0.9106\n",
      "Epoch 12/60\n",
      "318/318 [==============================] - 59s 186ms/step - loss: 0.2958 - accuracy: 0.9054 - val_loss: 0.3061 - val_accuracy: 0.9159\n",
      "Epoch 13/60\n",
      "318/318 [==============================] - 58s 182ms/step - loss: 0.3007 - accuracy: 0.9058 - val_loss: 0.3189 - val_accuracy: 0.9088\n",
      "Epoch 14/60\n",
      "318/318 [==============================] - 61s 191ms/step - loss: 0.3000 - accuracy: 0.9042 - val_loss: 0.3175 - val_accuracy: 0.9080\n",
      "Epoch 15/60\n",
      "318/318 [==============================] - 62s 194ms/step - loss: 0.2810 - accuracy: 0.9100 - val_loss: 0.3118 - val_accuracy: 0.9133\n",
      "Epoch 16/60\n",
      "318/318 [==============================] - 60s 189ms/step - loss: 0.2892 - accuracy: 0.9082 - val_loss: 0.3301 - val_accuracy: 0.9000\n",
      "Epoch 17/60\n",
      "318/318 [==============================] - 59s 185ms/step - loss: 0.2866 - accuracy: 0.9073 - val_loss: 0.3313 - val_accuracy: 0.9000\n",
      "Epoch 18/60\n",
      "318/318 [==============================] - 57s 181ms/step - loss: 0.2952 - accuracy: 0.9067 - val_loss: 0.3152 - val_accuracy: 0.9062\n",
      "Epoch 19/60\n",
      "318/318 [==============================] - 57s 180ms/step - loss: 0.2871 - accuracy: 0.9069 - val_loss: 0.3337 - val_accuracy: 0.9053\n",
      "Epoch 20/60\n",
      "318/318 [==============================] - 58s 183ms/step - loss: 0.2797 - accuracy: 0.9086 - val_loss: 0.3260 - val_accuracy: 0.9106\n",
      "Epoch 21/60\n",
      "318/318 [==============================] - 57s 180ms/step - loss: 0.2852 - accuracy: 0.9048 - val_loss: 0.3237 - val_accuracy: 0.9106\n",
      "Epoch 22/60\n",
      "318/318 [==============================] - 60s 188ms/step - loss: 0.2845 - accuracy: 0.9059 - val_loss: 0.3223 - val_accuracy: 0.9097\n",
      "Epoch 23/60\n",
      "318/318 [==============================] - 60s 189ms/step - loss: 0.2654 - accuracy: 0.9139 - val_loss: 0.3308 - val_accuracy: 0.9071\n",
      "Epoch 24/60\n",
      "318/318 [==============================] - 57s 180ms/step - loss: 0.2877 - accuracy: 0.9035 - val_loss: 0.3526 - val_accuracy: 0.9000\n",
      "Epoch 25/60\n",
      "318/318 [==============================] - 59s 186ms/step - loss: 0.2720 - accuracy: 0.9109 - val_loss: 0.3111 - val_accuracy: 0.9097\n",
      "Epoch 26/60\n",
      "318/318 [==============================] - 61s 191ms/step - loss: 0.2805 - accuracy: 0.9065 - val_loss: 0.3288 - val_accuracy: 0.8991\n",
      "Epoch 27/60\n",
      "318/318 [==============================] - 59s 185ms/step - loss: 0.2827 - accuracy: 0.9062 - val_loss: 0.3258 - val_accuracy: 0.9106\n",
      "Epoch 28/60\n",
      "318/318 [==============================] - 63s 199ms/step - loss: 0.2945 - accuracy: 0.9081 - val_loss: 0.2931 - val_accuracy: 0.9177\n",
      "Epoch 29/60\n",
      "318/318 [==============================] - 59s 187ms/step - loss: 0.2660 - accuracy: 0.9129 - val_loss: 0.3203 - val_accuracy: 0.9088\n",
      "Epoch 30/60\n",
      "318/318 [==============================] - 58s 183ms/step - loss: 0.2884 - accuracy: 0.9050 - val_loss: 0.3128 - val_accuracy: 0.9071\n",
      "Epoch 31/60\n",
      "318/318 [==============================] - 62s 195ms/step - loss: 0.2723 - accuracy: 0.9119 - val_loss: 0.3422 - val_accuracy: 0.9018\n",
      "Epoch 32/60\n",
      "318/318 [==============================] - 62s 196ms/step - loss: 0.2747 - accuracy: 0.9098 - val_loss: 0.3147 - val_accuracy: 0.9053\n",
      "Epoch 33/60\n",
      "318/318 [==============================] - 64s 200ms/step - loss: 0.2742 - accuracy: 0.9087 - val_loss: 0.3392 - val_accuracy: 0.9062\n",
      "Epoch 34/60\n",
      "318/318 [==============================] - 61s 192ms/step - loss: 0.2805 - accuracy: 0.9113 - val_loss: 0.3123 - val_accuracy: 0.9115\n",
      "Epoch 35/60\n",
      "318/318 [==============================] - 64s 201ms/step - loss: 0.2770 - accuracy: 0.9110 - val_loss: 0.3032 - val_accuracy: 0.9159\n",
      "Epoch 36/60\n",
      "318/318 [==============================] - 63s 198ms/step - loss: 0.2866 - accuracy: 0.9057 - val_loss: 0.3183 - val_accuracy: 0.9027\n",
      "Epoch 37/60\n",
      "318/318 [==============================] - 62s 196ms/step - loss: 0.2811 - accuracy: 0.9069 - val_loss: 0.3191 - val_accuracy: 0.9088\n",
      "Epoch 38/60\n",
      "318/318 [==============================] - 64s 200ms/step - loss: 0.2814 - accuracy: 0.9091 - val_loss: 0.3292 - val_accuracy: 0.9097\n",
      "Epoch 39/60\n",
      "318/318 [==============================] - 67s 211ms/step - loss: 0.2733 - accuracy: 0.9135 - val_loss: 0.2997 - val_accuracy: 0.9159\n",
      "Epoch 40/60\n",
      "318/318 [==============================] - 64s 202ms/step - loss: 0.2693 - accuracy: 0.9140 - val_loss: 0.3161 - val_accuracy: 0.9088\n",
      "Epoch 41/60\n",
      "318/318 [==============================] - 63s 199ms/step - loss: 0.2743 - accuracy: 0.9116 - val_loss: 0.3113 - val_accuracy: 0.9106\n",
      "Epoch 42/60\n",
      "318/318 [==============================] - 64s 201ms/step - loss: 0.2747 - accuracy: 0.9133 - val_loss: 0.3200 - val_accuracy: 0.9088\n",
      "Epoch 43/60\n",
      "318/318 [==============================] - 65s 204ms/step - loss: 0.2711 - accuracy: 0.9145 - val_loss: 0.3266 - val_accuracy: 0.9115\n",
      "Epoch 44/60\n",
      "318/318 [==============================] - 63s 197ms/step - loss: 0.2814 - accuracy: 0.9093 - val_loss: 0.3093 - val_accuracy: 0.9106\n",
      "Epoch 45/60\n",
      "318/318 [==============================] - 58s 183ms/step - loss: 0.2731 - accuracy: 0.9136 - val_loss: 0.3111 - val_accuracy: 0.9150\n",
      "Epoch 46/60\n",
      "318/318 [==============================] - 63s 199ms/step - loss: 0.2831 - accuracy: 0.9094 - val_loss: 0.3292 - val_accuracy: 0.9000\n",
      "Epoch 47/60\n",
      "318/318 [==============================] - 64s 200ms/step - loss: 0.2813 - accuracy: 0.9100 - val_loss: 0.3200 - val_accuracy: 0.9035\n",
      "Epoch 48/60\n",
      "318/318 [==============================] - 61s 193ms/step - loss: 0.2792 - accuracy: 0.9124 - val_loss: 0.3167 - val_accuracy: 0.9133\n",
      "Epoch 49/60\n",
      "318/318 [==============================] - 64s 202ms/step - loss: 0.2652 - accuracy: 0.9148 - val_loss: 0.3231 - val_accuracy: 0.9106\n",
      "Epoch 50/60\n",
      "318/318 [==============================] - 68s 215ms/step - loss: 0.2792 - accuracy: 0.9110 - val_loss: 0.3165 - val_accuracy: 0.9106\n",
      "Epoch 51/60\n",
      "318/318 [==============================] - 61s 193ms/step - loss: 0.2742 - accuracy: 0.9127 - val_loss: 0.3357 - val_accuracy: 0.9044\n",
      "Epoch 52/60\n",
      "318/318 [==============================] - 62s 195ms/step - loss: 0.2704 - accuracy: 0.9137 - val_loss: 0.3232 - val_accuracy: 0.9071\n",
      "Epoch 53/60\n",
      "318/318 [==============================] - 58s 183ms/step - loss: 0.2688 - accuracy: 0.9136 - val_loss: 0.3281 - val_accuracy: 0.9071\n",
      "Epoch 54/60\n",
      "318/318 [==============================] - 59s 184ms/step - loss: 0.2710 - accuracy: 0.9120 - val_loss: 0.3269 - val_accuracy: 0.9097\n",
      "Epoch 55/60\n",
      "318/318 [==============================] - 57s 180ms/step - loss: 0.2744 - accuracy: 0.9083 - val_loss: 0.3277 - val_accuracy: 0.9097\n",
      "Epoch 56/60\n",
      "318/318 [==============================] - 57s 179ms/step - loss: 0.2789 - accuracy: 0.9077 - val_loss: 0.3319 - val_accuracy: 0.9027\n",
      "Epoch 57/60\n",
      "318/318 [==============================] - 56s 177ms/step - loss: 0.2642 - accuracy: 0.9149 - val_loss: 0.3280 - val_accuracy: 0.9115\n",
      "Epoch 58/60\n",
      "318/318 [==============================] - 57s 178ms/step - loss: 0.2780 - accuracy: 0.9073 - val_loss: 0.3598 - val_accuracy: 0.8956\n",
      "Epoch 59/60\n",
      "318/318 [==============================] - 58s 182ms/step - loss: 0.2741 - accuracy: 0.9134 - val_loss: 0.3480 - val_accuracy: 0.9097\n",
      "Epoch 60/60\n",
      "318/318 [==============================] - 58s 182ms/step - loss: 0.2763 - accuracy: 0.9103 - val_loss: 0.3351 - val_accuracy: 0.9097\n"
     ]
    }
   ],
   "source": [
    "history = model.fit(train,\n",
    "                    epochs=60,\n",
    "                    validation_data=valid)"
   ]
  },
  {
   "cell_type": "code",
   "execution_count": 64,
   "metadata": {},
   "outputs": [
    {
     "data": {
      "image/png": "[encoded data removed]",
      "text/plain": [
       "<Figure size 432x288 with 1 Axes>"
      ]
     },
     "metadata": {
      "needs_background": "light"
     },
     "output_type": "display_data"
    },
    {
     "data": {
      "image/png": "[encoded data removed]",
      "text/plain": [
       "<Figure size 432x288 with 1 Axes>"
      ]
     },
     "metadata": {
      "needs_background": "light"
     },
     "output_type": "display_data"
    }
   ],
   "source": [
    "plt.figure()\n",
    "plt.plot(history.history['loss'], label='training loss')\n",
    "plt.plot(history.history['val_loss'], label='validation loss')\n",
    "plt.legend(loc='best')\n",
    "\n",
    "plt.figure()\n",
    "plt.plot(history.history['accuracy'], label='train accuracy')\n",
    "plt.plot(history.history['val_accuracy'], label='validation accuracy')\n",
    "plt.legend(loc='best')\n",
    "plt.show()"
   ]
  },
  {
   "cell_type": "code",
   "execution_count": 79,
   "metadata": {},
   "outputs": [
    {
     "data": {
      "image/png": "[encoded data removed]",
      "text/plain": [
       "<Figure size 432x288 with 1 Axes>"
      ]
     },
     "metadata": {
      "needs_background": "light"
     },
     "output_type": "display_data"
    },
    {
     "name": "stdout",
     "output_type": "stream",
     "text": [
      "1/1 [==============================] - 0s 25ms/step\n",
      "0 predicted\n"
     ]
    },
    {
     "data": {
      "text/plain": [
       "array([[  3.2548115, -13.364286 ,  -6.1941137,  -9.394496 , -11.174138 ,\n",
       "         -8.425592 ,  -8.916192 ,  -5.000111 ]], dtype=float32)"
      ]
     },
     "execution_count": 79,
     "metadata": {},
     "output_type": "execute_result"
    }
   ],
   "source": [
    "import os\n",
    "from PIL import Image\n",
    "import random\n",
    "import numpy as np\n",
    "import matplotlib.pyplot as plt\n",
    "import matplotlib.cm as cm\n",
    "\n",
    "def plot_img(img_matrix):\n",
    "    fig = plt.figure()\n",
    "    ax1 = fig.add_subplot(121)\n",
    "    \n",
    "    ax1.imshow(img_matrix.astype('uint8'))\n",
    "\n",
    "    plt.show()\n",
    "\n",
    "def get_result(prediction):\n",
    "    return np.argmax(prediction)\n",
    "\n",
    "def procces_img(path):\n",
    "    img_tmp = Image.open(path).resize((resolution[0],resolution[1]))\n",
    "    return np.array(img_tmp).astype('uint8')\n",
    "\n",
    "\n",
    "\n",
    "\n",
    "img = procces_img('test/5.jpg')\n",
    "plot_img(img)\n",
    "prediction = model.predict(img.reshape((-1, 128, 128, 3)))\n",
    "print(f'{get_result(prediction)} predicted' )\n",
    "prediction"
   ]
  }
 ],
 "metadata": {
  "kernelspec": {
   "display_name": "base",
   "language": "python",
   "name": "python3"
  },
  "language_info": {
   "codemirror_mode": {
    "name": "ipython",
    "version": 3
   },
   "file_extension": ".py",
   "mimetype": "text/x-python",
   "name": "python",
   "nbconvert_exporter": "python",
   "pygments_lexer": "ipython3",
   "version": "3.8.3"
  },
  "orig_nbformat": 4,
  "vscode": {
   "interpreter": {
    "hash": "b735bc272654f9cb61c88d1440fac5997daf9b03ed57a5ffe25182cc9caddd7b"
   }
  }
 },
 "nbformat": 4,
 "nbformat_minor": 2
}
